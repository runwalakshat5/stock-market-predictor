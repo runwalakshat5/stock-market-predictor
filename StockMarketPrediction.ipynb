{
 "cells": [
  {
   "cell_type": "markdown",
   "metadata": {
    "colab_type": "text",
    "id": "view-in-github"
   },
   "source": [
    "# Stock Market Prediction using Numerical and Textual Analysis"
   ]
  },
  {
   "cell_type": "markdown",
   "metadata": {},
   "source": [
    "# GRIP June 2021 Intern Task-7"
   ]
  },
  {
   "cell_type": "markdown",
   "metadata": {},
   "source": [
    "# Akshat Runwal"
   ]
  },
  {
   "cell_type": "code",
   "execution_count": 1,
   "metadata": {
    "colab": {
     "base_uri": "https://localhost:8080/"
    },
    "id": "beSkU3D3j-dC",
    "outputId": "03105697-feb1-401d-cbf5-08d627b39817"
   },
   "outputs": [
    {
     "name": "stdout",
     "output_type": "stream",
     "text": [
      "Requirement already satisfied: nltk in c:\\users\\asus\\desktop\\stock_market_prediction\\env\\lib\\site-packages (3.6.2)\n",
      "Requirement already satisfied: click in c:\\users\\asus\\appdata\\roaming\\python\\python38\\site-packages (from nltk) (8.0.1)\n",
      "Requirement already satisfied: tqdm in c:\\users\\asus\\desktop\\stock_market_prediction\\env\\lib\\site-packages (from nltk) (4.61.1)\n",
      "Requirement already satisfied: regex in c:\\users\\asus\\desktop\\stock_market_prediction\\env\\lib\\site-packages (from nltk) (2021.4.4)\n",
      "Requirement already satisfied: joblib in c:\\users\\asus\\desktop\\stock_market_prediction\\env\\lib\\site-packages (from nltk) (1.0.1)\n",
      "Requirement already satisfied: colorama in c:\\users\\asus\\desktop\\stock_market_prediction\\env\\lib\\site-packages (from click->nltk) (0.4.4)\n"
     ]
    },
    {
     "name": "stderr",
     "output_type": "stream",
     "text": [
      "[nltk_data] Downloading package vader_lexicon to\n",
      "[nltk_data]     C:\\Users\\ASUS\\AppData\\Roaming\\nltk_data...\n",
      "[nltk_data]   Package vader_lexicon is already up-to-date!\n"
     ]
    },
    {
     "data": {
      "text/plain": [
       "True"
      ]
     },
     "execution_count": 1,
     "metadata": {},
     "output_type": "execute_result"
    }
   ],
   "source": [
    "!pip install nltk\n",
    "import pandas as pd\n",
    "import numpy as np\n",
    "import matplotlib.pyplot as plt\n",
    "import math\n",
    "\n",
    "import seaborn as sns\n",
    "\n",
    "import nltk\n",
    "#VADER ( Valence Aware Dictionary for Sentiment Reasoning) is a model used for\n",
    "# text sentiment analysis that is sensitive to both polarity (positive/negative) and intensity (strength) of emotion.\n",
    "nltk.download('vader_lexicon')"
   ]
  },
  {
   "cell_type": "code",
   "execution_count": 2,
   "metadata": {
    "id": "75Dmc9prDOBv"
   },
   "outputs": [],
   "source": [
    "stock_prices=pd.read_csv('historical_data.csv')"
   ]
  },
  {
   "cell_type": "code",
   "execution_count": 3,
   "metadata": {
    "colab": {
     "base_uri": "https://localhost:8080/"
    },
    "id": "n1G75C06DlNV",
    "outputId": "eeb48294-ade8-410d-bd0d-e2c5510d3fb9"
   },
   "outputs": [
    {
     "name": "stdout",
     "output_type": "stream",
     "text": [
      "         Date         Open         High          Low        Close  \\\n",
      "0  2005-06-30  7154.270020  7218.279785  7154.270020  7193.850098   \n",
      "1  2005-07-01  7165.450195  7228.569824  7154.930176  7210.770020   \n",
      "2  2005-07-04  7186.740234  7284.410156  7186.740234  7277.310059   \n",
      "3  2005-07-05  7275.000000  7308.720215  7209.859863  7220.250000   \n",
      "4  2005-07-06  7227.220215  7296.180176  7227.220215  7287.600098   \n",
      "\n",
      "     Adj Close   Volume  \n",
      "0  7193.850098  28600.0  \n",
      "1  7210.770020  12600.0  \n",
      "2  7277.310059   9600.0  \n",
      "3  7220.250000  12600.0  \n",
      "4  7287.600098  13400.0  \n",
      "25900\n"
     ]
    }
   ],
   "source": [
    "print(stock_prices.head())\n",
    "print(stock_prices.size)"
   ]
  },
  {
   "cell_type": "code",
   "execution_count": 4,
   "metadata": {
    "colab": {
     "base_uri": "https://localhost:8080/"
    },
    "id": "4Lb1N-7OEJmy",
    "outputId": "e2cefb9f-9412-44d3-c6a7-dc92ed9c1bd8"
   },
   "outputs": [
    {
     "name": "stdout",
     "output_type": "stream",
     "text": [
      "<class 'pandas.core.frame.DataFrame'>\n",
      "RangeIndex: 3700 entries, 0 to 3699\n",
      "Data columns (total 7 columns):\n",
      " #   Column     Non-Null Count  Dtype  \n",
      "---  ------     --------------  -----  \n",
      " 0   Date       3700 non-null   object \n",
      " 1   Open       3672 non-null   float64\n",
      " 2   High       3672 non-null   float64\n",
      " 3   Low        3672 non-null   float64\n",
      " 4   Close      3672 non-null   float64\n",
      " 5   Adj Close  3672 non-null   float64\n",
      " 6   Volume     3672 non-null   float64\n",
      "dtypes: float64(6), object(1)\n",
      "memory usage: 202.5+ KB\n"
     ]
    }
   ],
   "source": [
    "stock_prices.info()"
   ]
  },
  {
   "cell_type": "code",
   "execution_count": 5,
   "metadata": {
    "id": "k5ssfT-opLMx"
   },
   "outputs": [],
   "source": [
    "stock_headlines=pd.read_csv('india-news-headlines.csv')"
   ]
  },
  {
   "cell_type": "code",
   "execution_count": 6,
   "metadata": {
    "colab": {
     "base_uri": "https://localhost:8080/"
    },
    "id": "LvM6N1g8ApxW",
    "outputId": "548e05a2-ac6d-4a1b-8d38-f5a67300c425"
   },
   "outputs": [
    {
     "name": "stdout",
     "output_type": "stream",
     "text": [
      "   publish_date headline_category  \\\n",
      "0      20010102           unknown   \n",
      "1      20010102           unknown   \n",
      "2      20010102           unknown   \n",
      "3      20010102           unknown   \n",
      "4      20010102           unknown   \n",
      "\n",
      "                                       headline_text  \n",
      "0  Status quo will not be disturbed at Ayodhya; s...  \n",
      "1                Fissures in Hurriyat over Pak visit  \n",
      "2              America's unwanted heading for India?  \n",
      "3                 For bigwigs; it is destination Goa  \n",
      "4               Extra buses to clear tourist traffic  \n",
      "10272201\n"
     ]
    }
   ],
   "source": [
    "print(stock_headlines.head())\n",
    "print(stock_headlines.size)"
   ]
  },
  {
   "cell_type": "code",
   "execution_count": 7,
   "metadata": {
    "colab": {
     "base_uri": "https://localhost:8080/",
     "height": 419
    },
    "id": "zzUU12u_D_0H",
    "outputId": "175ea50e-f79d-4540-d6cf-9f6cf7c5faa2"
   },
   "outputs": [
    {
     "data": {
      "text/html": [
       "<div>\n",
       "<style scoped>\n",
       "    .dataframe tbody tr th:only-of-type {\n",
       "        vertical-align: middle;\n",
       "    }\n",
       "\n",
       "    .dataframe tbody tr th {\n",
       "        vertical-align: top;\n",
       "    }\n",
       "\n",
       "    .dataframe thead th {\n",
       "        text-align: right;\n",
       "    }\n",
       "</style>\n",
       "<table border=\"1\" class=\"dataframe\">\n",
       "  <thead>\n",
       "    <tr style=\"text-align: right;\">\n",
       "      <th></th>\n",
       "      <th>Date</th>\n",
       "      <th>Open</th>\n",
       "      <th>High</th>\n",
       "      <th>Low</th>\n",
       "      <th>Close</th>\n",
       "      <th>Adj Close</th>\n",
       "      <th>Volume</th>\n",
       "    </tr>\n",
       "  </thead>\n",
       "  <tbody>\n",
       "    <tr>\n",
       "      <th>0</th>\n",
       "      <td>2005-06-30</td>\n",
       "      <td>7154.270020</td>\n",
       "      <td>7218.279785</td>\n",
       "      <td>7154.270020</td>\n",
       "      <td>7193.850098</td>\n",
       "      <td>7193.850098</td>\n",
       "      <td>28600.0</td>\n",
       "    </tr>\n",
       "    <tr>\n",
       "      <th>1</th>\n",
       "      <td>2005-07-01</td>\n",
       "      <td>7165.450195</td>\n",
       "      <td>7228.569824</td>\n",
       "      <td>7154.930176</td>\n",
       "      <td>7210.770020</td>\n",
       "      <td>7210.770020</td>\n",
       "      <td>12600.0</td>\n",
       "    </tr>\n",
       "    <tr>\n",
       "      <th>2</th>\n",
       "      <td>2005-07-04</td>\n",
       "      <td>7186.740234</td>\n",
       "      <td>7284.410156</td>\n",
       "      <td>7186.740234</td>\n",
       "      <td>7277.310059</td>\n",
       "      <td>7277.310059</td>\n",
       "      <td>9600.0</td>\n",
       "    </tr>\n",
       "    <tr>\n",
       "      <th>3</th>\n",
       "      <td>2005-07-05</td>\n",
       "      <td>7275.000000</td>\n",
       "      <td>7308.720215</td>\n",
       "      <td>7209.859863</td>\n",
       "      <td>7220.250000</td>\n",
       "      <td>7220.250000</td>\n",
       "      <td>12600.0</td>\n",
       "    </tr>\n",
       "    <tr>\n",
       "      <th>4</th>\n",
       "      <td>2005-07-06</td>\n",
       "      <td>7227.220215</td>\n",
       "      <td>7296.180176</td>\n",
       "      <td>7227.220215</td>\n",
       "      <td>7287.600098</td>\n",
       "      <td>7287.600098</td>\n",
       "      <td>13400.0</td>\n",
       "    </tr>\n",
       "    <tr>\n",
       "      <th>...</th>\n",
       "      <td>...</td>\n",
       "      <td>...</td>\n",
       "      <td>...</td>\n",
       "      <td>...</td>\n",
       "      <td>...</td>\n",
       "      <td>...</td>\n",
       "      <td>...</td>\n",
       "    </tr>\n",
       "    <tr>\n",
       "      <th>3695</th>\n",
       "      <td>2020-06-23</td>\n",
       "      <td>35015.730469</td>\n",
       "      <td>35482.160156</td>\n",
       "      <td>34843.691406</td>\n",
       "      <td>35430.429688</td>\n",
       "      <td>35430.429688</td>\n",
       "      <td>25200.0</td>\n",
       "    </tr>\n",
       "    <tr>\n",
       "      <th>3696</th>\n",
       "      <td>2020-06-24</td>\n",
       "      <td>35679.738281</td>\n",
       "      <td>35706.550781</td>\n",
       "      <td>34794.929688</td>\n",
       "      <td>34868.980469</td>\n",
       "      <td>34868.980469</td>\n",
       "      <td>26600.0</td>\n",
       "    </tr>\n",
       "    <tr>\n",
       "      <th>3697</th>\n",
       "      <td>2020-06-25</td>\n",
       "      <td>34525.390625</td>\n",
       "      <td>35081.609375</td>\n",
       "      <td>34499.781250</td>\n",
       "      <td>34842.101563</td>\n",
       "      <td>34842.101563</td>\n",
       "      <td>24600.0</td>\n",
       "    </tr>\n",
       "    <tr>\n",
       "      <th>3698</th>\n",
       "      <td>2020-06-26</td>\n",
       "      <td>35144.781250</td>\n",
       "      <td>35254.878906</td>\n",
       "      <td>34910.339844</td>\n",
       "      <td>35171.269531</td>\n",
       "      <td>35171.269531</td>\n",
       "      <td>24800.0</td>\n",
       "    </tr>\n",
       "    <tr>\n",
       "      <th>3699</th>\n",
       "      <td>2020-06-29</td>\n",
       "      <td>34926.949219</td>\n",
       "      <td>35032.359375</td>\n",
       "      <td>34662.058594</td>\n",
       "      <td>34961.519531</td>\n",
       "      <td>34961.519531</td>\n",
       "      <td>18300.0</td>\n",
       "    </tr>\n",
       "  </tbody>\n",
       "</table>\n",
       "<p>3700 rows × 7 columns</p>\n",
       "</div>"
      ],
      "text/plain": [
       "           Date          Open          High           Low         Close  \\\n",
       "0    2005-06-30   7154.270020   7218.279785   7154.270020   7193.850098   \n",
       "1    2005-07-01   7165.450195   7228.569824   7154.930176   7210.770020   \n",
       "2    2005-07-04   7186.740234   7284.410156   7186.740234   7277.310059   \n",
       "3    2005-07-05   7275.000000   7308.720215   7209.859863   7220.250000   \n",
       "4    2005-07-06   7227.220215   7296.180176   7227.220215   7287.600098   \n",
       "...         ...           ...           ...           ...           ...   \n",
       "3695 2020-06-23  35015.730469  35482.160156  34843.691406  35430.429688   \n",
       "3696 2020-06-24  35679.738281  35706.550781  34794.929688  34868.980469   \n",
       "3697 2020-06-25  34525.390625  35081.609375  34499.781250  34842.101563   \n",
       "3698 2020-06-26  35144.781250  35254.878906  34910.339844  35171.269531   \n",
       "3699 2020-06-29  34926.949219  35032.359375  34662.058594  34961.519531   \n",
       "\n",
       "         Adj Close   Volume  \n",
       "0      7193.850098  28600.0  \n",
       "1      7210.770020  12600.0  \n",
       "2      7277.310059   9600.0  \n",
       "3      7220.250000  12600.0  \n",
       "4      7287.600098  13400.0  \n",
       "...            ...      ...  \n",
       "3695  35430.429688  25200.0  \n",
       "3696  34868.980469  26600.0  \n",
       "3697  34842.101563  24600.0  \n",
       "3698  35171.269531  24800.0  \n",
       "3699  34961.519531  18300.0  \n",
       "\n",
       "[3700 rows x 7 columns]"
      ]
     },
     "execution_count": 7,
     "metadata": {},
     "output_type": "execute_result"
    }
   ],
   "source": [
    "#converting stock_prices['Date'] object to datetime datatype\n",
    "stock_prices['Date']=pd.to_datetime(stock_prices['Date'])\n",
    "stock_prices"
   ]
  },
  {
   "cell_type": "code",
   "execution_count": 8,
   "metadata": {
    "colab": {
     "base_uri": "https://localhost:8080/"
    },
    "id": "_ZOmfgJ7Ezvs",
    "outputId": "d9eb8ef0-6324-4d98-b054-cd5dfb8b7def"
   },
   "outputs": [
    {
     "data": {
      "text/plain": [
       "True"
      ]
     },
     "execution_count": 8,
     "metadata": {},
     "output_type": "execute_result"
    }
   ],
   "source": [
    "#detecting any null value\n",
    "stock_prices.isnull().values.any()"
   ]
  },
  {
   "cell_type": "code",
   "execution_count": 9,
   "metadata": {
    "id": "cF4dNO-9FVcA"
   },
   "outputs": [],
   "source": [
    "#dropping any null value if any\n",
    "stock_prices.dropna(inplace=True)"
   ]
  },
  {
   "cell_type": "code",
   "execution_count": 10,
   "metadata": {
    "colab": {
     "base_uri": "https://localhost:8080/"
    },
    "id": "3SY939YpFc0Y",
    "outputId": "481a0fb0-428e-4936-80dd-cb9f56e6237a"
   },
   "outputs": [
    {
     "name": "stdout",
     "output_type": "stream",
     "text": [
      "        Date         Open         High          Low        Close    Adj Close  \\\n",
      "0 2005-06-30  7154.270020  7218.279785  7154.270020  7193.850098  7193.850098   \n",
      "1 2005-07-01  7165.450195  7228.569824  7154.930176  7210.770020  7210.770020   \n",
      "2 2005-07-04  7186.740234  7284.410156  7186.740234  7277.310059  7277.310059   \n",
      "3 2005-07-05  7275.000000  7308.720215  7209.859863  7220.250000  7220.250000   \n",
      "4 2005-07-06  7227.220215  7296.180176  7227.220215  7287.600098  7287.600098   \n",
      "\n",
      "    Volume  \n",
      "0  28600.0  \n",
      "1  12600.0  \n",
      "2   9600.0  \n",
      "3  12600.0  \n",
      "4  13400.0  \n"
     ]
    }
   ],
   "source": [
    "print(stock_prices.head())"
   ]
  },
  {
   "cell_type": "markdown",
   "metadata": {
    "id": "qKGE31s2Qcd6"
   },
   "source": [
    "#combine the polarity of news to data and then predict the close price\n",
    "#i.e. close price is to be determined"
   ]
  },
  {
   "cell_type": "code",
   "execution_count": 11,
   "metadata": {
    "colab": {
     "base_uri": "https://localhost:8080/",
     "height": 419
    },
    "id": "qy82zqe-ITin",
    "outputId": "05c9e98c-541a-48e1-92eb-3a8bab3bc183"
   },
   "outputs": [
    {
     "data": {
      "text/html": [
       "<div>\n",
       "<style scoped>\n",
       "    .dataframe tbody tr th:only-of-type {\n",
       "        vertical-align: middle;\n",
       "    }\n",
       "\n",
       "    .dataframe tbody tr th {\n",
       "        vertical-align: top;\n",
       "    }\n",
       "\n",
       "    .dataframe thead th {\n",
       "        text-align: right;\n",
       "    }\n",
       "</style>\n",
       "<table border=\"1\" class=\"dataframe\">\n",
       "  <thead>\n",
       "    <tr style=\"text-align: right;\">\n",
       "      <th></th>\n",
       "      <th>publish_date</th>\n",
       "      <th>headline_category</th>\n",
       "      <th>headline_text</th>\n",
       "    </tr>\n",
       "  </thead>\n",
       "  <tbody>\n",
       "    <tr>\n",
       "      <th>0</th>\n",
       "      <td>20010102</td>\n",
       "      <td>unknown</td>\n",
       "      <td>Status quo will not be disturbed at Ayodhya; s...</td>\n",
       "    </tr>\n",
       "    <tr>\n",
       "      <th>1</th>\n",
       "      <td>20010102</td>\n",
       "      <td>unknown</td>\n",
       "      <td>Fissures in Hurriyat over Pak visit</td>\n",
       "    </tr>\n",
       "    <tr>\n",
       "      <th>2</th>\n",
       "      <td>20010102</td>\n",
       "      <td>unknown</td>\n",
       "      <td>America's unwanted heading for India?</td>\n",
       "    </tr>\n",
       "    <tr>\n",
       "      <th>3</th>\n",
       "      <td>20010102</td>\n",
       "      <td>unknown</td>\n",
       "      <td>For bigwigs; it is destination Goa</td>\n",
       "    </tr>\n",
       "    <tr>\n",
       "      <th>4</th>\n",
       "      <td>20010102</td>\n",
       "      <td>unknown</td>\n",
       "      <td>Extra buses to clear tourist traffic</td>\n",
       "    </tr>\n",
       "    <tr>\n",
       "      <th>...</th>\n",
       "      <td>...</td>\n",
       "      <td>...</td>\n",
       "      <td>...</td>\n",
       "    </tr>\n",
       "    <tr>\n",
       "      <th>3424062</th>\n",
       "      <td>20201231</td>\n",
       "      <td>city.jodhpur</td>\n",
       "      <td>Covid-19: Despite dip in cases; Rajasthan amon...</td>\n",
       "    </tr>\n",
       "    <tr>\n",
       "      <th>3424063</th>\n",
       "      <td>20201231</td>\n",
       "      <td>city.udaipur</td>\n",
       "      <td>Covid-19: Despite dip in cases; Rajasthan amon...</td>\n",
       "    </tr>\n",
       "    <tr>\n",
       "      <th>3424064</th>\n",
       "      <td>20201231</td>\n",
       "      <td>city.ajmer</td>\n",
       "      <td>Covid-19: Despite dip in cases; Rajasthan amon...</td>\n",
       "    </tr>\n",
       "    <tr>\n",
       "      <th>3424065</th>\n",
       "      <td>20201231</td>\n",
       "      <td>removed</td>\n",
       "      <td>Govt extends deadline for use of FASTag till F...</td>\n",
       "    </tr>\n",
       "    <tr>\n",
       "      <th>3424066</th>\n",
       "      <td>20201231</td>\n",
       "      <td>entertainment.bengali.movies.news</td>\n",
       "      <td>Celebs plan to party safely and responsibly on...</td>\n",
       "    </tr>\n",
       "  </tbody>\n",
       "</table>\n",
       "<p>3424067 rows × 3 columns</p>\n",
       "</div>"
      ],
      "text/plain": [
       "         publish_date                  headline_category  \\\n",
       "0            20010102                            unknown   \n",
       "1            20010102                            unknown   \n",
       "2            20010102                            unknown   \n",
       "3            20010102                            unknown   \n",
       "4            20010102                            unknown   \n",
       "...               ...                                ...   \n",
       "3424062      20201231                       city.jodhpur   \n",
       "3424063      20201231                       city.udaipur   \n",
       "3424064      20201231                         city.ajmer   \n",
       "3424065      20201231                            removed   \n",
       "3424066      20201231  entertainment.bengali.movies.news   \n",
       "\n",
       "                                             headline_text  \n",
       "0        Status quo will not be disturbed at Ayodhya; s...  \n",
       "1                      Fissures in Hurriyat over Pak visit  \n",
       "2                    America's unwanted heading for India?  \n",
       "3                       For bigwigs; it is destination Goa  \n",
       "4                     Extra buses to clear tourist traffic  \n",
       "...                                                    ...  \n",
       "3424062  Covid-19: Despite dip in cases; Rajasthan amon...  \n",
       "3424063  Covid-19: Despite dip in cases; Rajasthan amon...  \n",
       "3424064  Covid-19: Despite dip in cases; Rajasthan amon...  \n",
       "3424065  Govt extends deadline for use of FASTag till F...  \n",
       "3424066  Celebs plan to party safely and responsibly on...  \n",
       "\n",
       "[3424067 rows x 3 columns]"
      ]
     },
     "execution_count": 11,
     "metadata": {},
     "output_type": "execute_result"
    }
   ],
   "source": [
    "stock_headlines"
   ]
  },
  {
   "cell_type": "code",
   "execution_count": 12,
   "metadata": {
    "colab": {
     "base_uri": "https://localhost:8080/",
     "height": 419
    },
    "id": "uvYUakxO_dCx",
    "outputId": "66d084cb-a4b2-4621-9460-1a41bc351e23"
   },
   "outputs": [
    {
     "data": {
      "text/html": [
       "<div>\n",
       "<style scoped>\n",
       "    .dataframe tbody tr th:only-of-type {\n",
       "        vertical-align: middle;\n",
       "    }\n",
       "\n",
       "    .dataframe tbody tr th {\n",
       "        vertical-align: top;\n",
       "    }\n",
       "\n",
       "    .dataframe thead th {\n",
       "        text-align: right;\n",
       "    }\n",
       "</style>\n",
       "<table border=\"1\" class=\"dataframe\">\n",
       "  <thead>\n",
       "    <tr style=\"text-align: right;\">\n",
       "      <th></th>\n",
       "      <th>publish_date</th>\n",
       "      <th>headline_category</th>\n",
       "      <th>headline_text</th>\n",
       "    </tr>\n",
       "  </thead>\n",
       "  <tbody>\n",
       "    <tr>\n",
       "      <th>0</th>\n",
       "      <td>2001-01-02</td>\n",
       "      <td>unknown</td>\n",
       "      <td>Status quo will not be disturbed at Ayodhya; s...</td>\n",
       "    </tr>\n",
       "    <tr>\n",
       "      <th>1</th>\n",
       "      <td>2001-01-02</td>\n",
       "      <td>unknown</td>\n",
       "      <td>Fissures in Hurriyat over Pak visit</td>\n",
       "    </tr>\n",
       "    <tr>\n",
       "      <th>2</th>\n",
       "      <td>2001-01-02</td>\n",
       "      <td>unknown</td>\n",
       "      <td>America's unwanted heading for India?</td>\n",
       "    </tr>\n",
       "    <tr>\n",
       "      <th>3</th>\n",
       "      <td>2001-01-02</td>\n",
       "      <td>unknown</td>\n",
       "      <td>For bigwigs; it is destination Goa</td>\n",
       "    </tr>\n",
       "    <tr>\n",
       "      <th>4</th>\n",
       "      <td>2001-01-02</td>\n",
       "      <td>unknown</td>\n",
       "      <td>Extra buses to clear tourist traffic</td>\n",
       "    </tr>\n",
       "    <tr>\n",
       "      <th>...</th>\n",
       "      <td>...</td>\n",
       "      <td>...</td>\n",
       "      <td>...</td>\n",
       "    </tr>\n",
       "    <tr>\n",
       "      <th>3424062</th>\n",
       "      <td>2020-12-31</td>\n",
       "      <td>city.jodhpur</td>\n",
       "      <td>Covid-19: Despite dip in cases; Rajasthan amon...</td>\n",
       "    </tr>\n",
       "    <tr>\n",
       "      <th>3424063</th>\n",
       "      <td>2020-12-31</td>\n",
       "      <td>city.udaipur</td>\n",
       "      <td>Covid-19: Despite dip in cases; Rajasthan amon...</td>\n",
       "    </tr>\n",
       "    <tr>\n",
       "      <th>3424064</th>\n",
       "      <td>2020-12-31</td>\n",
       "      <td>city.ajmer</td>\n",
       "      <td>Covid-19: Despite dip in cases; Rajasthan amon...</td>\n",
       "    </tr>\n",
       "    <tr>\n",
       "      <th>3424065</th>\n",
       "      <td>2020-12-31</td>\n",
       "      <td>removed</td>\n",
       "      <td>Govt extends deadline for use of FASTag till F...</td>\n",
       "    </tr>\n",
       "    <tr>\n",
       "      <th>3424066</th>\n",
       "      <td>2020-12-31</td>\n",
       "      <td>entertainment.bengali.movies.news</td>\n",
       "      <td>Celebs plan to party safely and responsibly on...</td>\n",
       "    </tr>\n",
       "  </tbody>\n",
       "</table>\n",
       "<p>3424067 rows × 3 columns</p>\n",
       "</div>"
      ],
      "text/plain": [
       "        publish_date                  headline_category  \\\n",
       "0         2001-01-02                            unknown   \n",
       "1         2001-01-02                            unknown   \n",
       "2         2001-01-02                            unknown   \n",
       "3         2001-01-02                            unknown   \n",
       "4         2001-01-02                            unknown   \n",
       "...              ...                                ...   \n",
       "3424062   2020-12-31                       city.jodhpur   \n",
       "3424063   2020-12-31                       city.udaipur   \n",
       "3424064   2020-12-31                         city.ajmer   \n",
       "3424065   2020-12-31                            removed   \n",
       "3424066   2020-12-31  entertainment.bengali.movies.news   \n",
       "\n",
       "                                             headline_text  \n",
       "0        Status quo will not be disturbed at Ayodhya; s...  \n",
       "1                      Fissures in Hurriyat over Pak visit  \n",
       "2                    America's unwanted heading for India?  \n",
       "3                       For bigwigs; it is destination Goa  \n",
       "4                     Extra buses to clear tourist traffic  \n",
       "...                                                    ...  \n",
       "3424062  Covid-19: Despite dip in cases; Rajasthan amon...  \n",
       "3424063  Covid-19: Despite dip in cases; Rajasthan amon...  \n",
       "3424064  Covid-19: Despite dip in cases; Rajasthan amon...  \n",
       "3424065  Govt extends deadline for use of FASTag till F...  \n",
       "3424066  Celebs plan to party safely and responsibly on...  \n",
       "\n",
       "[3424067 rows x 3 columns]"
      ]
     },
     "execution_count": 12,
     "metadata": {},
     "output_type": "execute_result"
    }
   ],
   "source": [
    "#converting stock_prices['Date'] object to datetime datatype\n",
    "stock_headlines['publish_date'] = pd.to_datetime(stock_headlines['publish_date'],format= '%Y%m%d')\n",
    "stock_headlines"
   ]
  },
  {
   "cell_type": "code",
   "execution_count": 13,
   "metadata": {
    "colab": {
     "base_uri": "https://localhost:8080/",
     "height": 419
    },
    "id": "1Bb8TDMM-dBK",
    "outputId": "e27d50dd-0c01-4c0a-b34b-e1402498fca3"
   },
   "outputs": [
    {
     "data": {
      "text/html": [
       "<div>\n",
       "<style scoped>\n",
       "    .dataframe tbody tr th:only-of-type {\n",
       "        vertical-align: middle;\n",
       "    }\n",
       "\n",
       "    .dataframe tbody tr th {\n",
       "        vertical-align: top;\n",
       "    }\n",
       "\n",
       "    .dataframe thead th {\n",
       "        text-align: right;\n",
       "    }\n",
       "</style>\n",
       "<table border=\"1\" class=\"dataframe\">\n",
       "  <thead>\n",
       "    <tr style=\"text-align: right;\">\n",
       "      <th></th>\n",
       "      <th>publish_date</th>\n",
       "      <th>headline_category</th>\n",
       "      <th>headline_text</th>\n",
       "    </tr>\n",
       "  </thead>\n",
       "  <tbody>\n",
       "    <tr>\n",
       "      <th>0</th>\n",
       "      <td>2001-01-02</td>\n",
       "      <td>unknown</td>\n",
       "      <td>Status quo will not be disturbed at Ayodhya; s...</td>\n",
       "    </tr>\n",
       "    <tr>\n",
       "      <th>1</th>\n",
       "      <td>2001-01-02</td>\n",
       "      <td>unknown</td>\n",
       "      <td>Fissures in Hurriyat over Pak visit</td>\n",
       "    </tr>\n",
       "    <tr>\n",
       "      <th>2</th>\n",
       "      <td>2001-01-02</td>\n",
       "      <td>unknown</td>\n",
       "      <td>America's unwanted heading for India?</td>\n",
       "    </tr>\n",
       "    <tr>\n",
       "      <th>3</th>\n",
       "      <td>2001-01-02</td>\n",
       "      <td>unknown</td>\n",
       "      <td>For bigwigs; it is destination Goa</td>\n",
       "    </tr>\n",
       "    <tr>\n",
       "      <th>4</th>\n",
       "      <td>2001-01-02</td>\n",
       "      <td>unknown</td>\n",
       "      <td>Extra buses to clear tourist traffic</td>\n",
       "    </tr>\n",
       "    <tr>\n",
       "      <th>...</th>\n",
       "      <td>...</td>\n",
       "      <td>...</td>\n",
       "      <td>...</td>\n",
       "    </tr>\n",
       "    <tr>\n",
       "      <th>3424062</th>\n",
       "      <td>2020-12-31</td>\n",
       "      <td>city.jodhpur</td>\n",
       "      <td>Covid-19: Despite dip in cases; Rajasthan amon...</td>\n",
       "    </tr>\n",
       "    <tr>\n",
       "      <th>3424063</th>\n",
       "      <td>2020-12-31</td>\n",
       "      <td>city.udaipur</td>\n",
       "      <td>Covid-19: Despite dip in cases; Rajasthan amon...</td>\n",
       "    </tr>\n",
       "    <tr>\n",
       "      <th>3424064</th>\n",
       "      <td>2020-12-31</td>\n",
       "      <td>city.ajmer</td>\n",
       "      <td>Covid-19: Despite dip in cases; Rajasthan amon...</td>\n",
       "    </tr>\n",
       "    <tr>\n",
       "      <th>3424065</th>\n",
       "      <td>2020-12-31</td>\n",
       "      <td>removed</td>\n",
       "      <td>Govt extends deadline for use of FASTag till F...</td>\n",
       "    </tr>\n",
       "    <tr>\n",
       "      <th>3424066</th>\n",
       "      <td>2020-12-31</td>\n",
       "      <td>entertainment.bengali.movies.news</td>\n",
       "      <td>Celebs plan to party safely and responsibly on...</td>\n",
       "    </tr>\n",
       "  </tbody>\n",
       "</table>\n",
       "<p>3399876 rows × 3 columns</p>\n",
       "</div>"
      ],
      "text/plain": [
       "        publish_date                  headline_category  \\\n",
       "0         2001-01-02                            unknown   \n",
       "1         2001-01-02                            unknown   \n",
       "2         2001-01-02                            unknown   \n",
       "3         2001-01-02                            unknown   \n",
       "4         2001-01-02                            unknown   \n",
       "...              ...                                ...   \n",
       "3424062   2020-12-31                       city.jodhpur   \n",
       "3424063   2020-12-31                       city.udaipur   \n",
       "3424064   2020-12-31                         city.ajmer   \n",
       "3424065   2020-12-31                            removed   \n",
       "3424066   2020-12-31  entertainment.bengali.movies.news   \n",
       "\n",
       "                                             headline_text  \n",
       "0        Status quo will not be disturbed at Ayodhya; s...  \n",
       "1                      Fissures in Hurriyat over Pak visit  \n",
       "2                    America's unwanted heading for India?  \n",
       "3                       For bigwigs; it is destination Goa  \n",
       "4                     Extra buses to clear tourist traffic  \n",
       "...                                                    ...  \n",
       "3424062  Covid-19: Despite dip in cases; Rajasthan amon...  \n",
       "3424063  Covid-19: Despite dip in cases; Rajasthan amon...  \n",
       "3424064  Covid-19: Despite dip in cases; Rajasthan amon...  \n",
       "3424065  Govt extends deadline for use of FASTag till F...  \n",
       "3424066  Celebs plan to party safely and responsibly on...  \n",
       "\n",
       "[3399876 rows x 3 columns]"
      ]
     },
     "execution_count": 13,
     "metadata": {},
     "output_type": "execute_result"
    }
   ],
   "source": [
    "#dropping any duplicate value\n",
    "stock_headlines.drop_duplicates()"
   ]
  },
  {
   "cell_type": "code",
   "execution_count": 14,
   "metadata": {
    "id": "vcH2_jXC_ypa"
   },
   "outputs": [],
   "source": [
    "#taking only publish_date column and headline_text\n",
    "stock_headlines = stock_headlines.filter(['publish_date', 'headline_text'])"
   ]
  },
  {
   "cell_type": "code",
   "execution_count": 15,
   "metadata": {
    "id": "yGnY81K1AEMg"
   },
   "outputs": [],
   "source": [
    "# grouping the news headlines according to Date\n",
    "stock_headlines = stock_headlines.groupby(['publish_date'])['headline_text'].apply(lambda x: ','.join(x)).reset_index()"
   ]
  },
  {
   "cell_type": "code",
   "execution_count": 16,
   "metadata": {
    "id": "cJxNcYvIAHEd"
   },
   "outputs": [],
   "source": [
    "#sorting the values according to publish_date\n",
    "stock_headlines=stock_headlines.sort_values(by='publish_date')"
   ]
  },
  {
   "cell_type": "code",
   "execution_count": 17,
   "metadata": {
    "colab": {
     "base_uri": "https://localhost:8080/",
     "height": 419
    },
    "id": "gGG8WxkQArHv",
    "outputId": "20e4c422-8c7c-4fb7-e520-94a438eb7ebd"
   },
   "outputs": [
    {
     "data": {
      "text/html": [
       "<div>\n",
       "<style scoped>\n",
       "    .dataframe tbody tr th:only-of-type {\n",
       "        vertical-align: middle;\n",
       "    }\n",
       "\n",
       "    .dataframe tbody tr th {\n",
       "        vertical-align: top;\n",
       "    }\n",
       "\n",
       "    .dataframe thead th {\n",
       "        text-align: right;\n",
       "    }\n",
       "</style>\n",
       "<table border=\"1\" class=\"dataframe\">\n",
       "  <thead>\n",
       "    <tr style=\"text-align: right;\">\n",
       "      <th></th>\n",
       "      <th>publish_date</th>\n",
       "      <th>headline_text</th>\n",
       "    </tr>\n",
       "  </thead>\n",
       "  <tbody>\n",
       "    <tr>\n",
       "      <th>0</th>\n",
       "      <td>2001-01-02</td>\n",
       "      <td>Status quo will not be disturbed at Ayodhya; s...</td>\n",
       "    </tr>\n",
       "    <tr>\n",
       "      <th>1</th>\n",
       "      <td>2001-01-03</td>\n",
       "      <td>Powerless north India gropes in the dark,Think...</td>\n",
       "    </tr>\n",
       "    <tr>\n",
       "      <th>2</th>\n",
       "      <td>2001-01-04</td>\n",
       "      <td>The string that pulled Stephen Hawking to Indi...</td>\n",
       "    </tr>\n",
       "    <tr>\n",
       "      <th>3</th>\n",
       "      <td>2001-01-05</td>\n",
       "      <td>Light combat craft takes India into club class...</td>\n",
       "    </tr>\n",
       "    <tr>\n",
       "      <th>4</th>\n",
       "      <td>2001-01-06</td>\n",
       "      <td>Light combat craft takes India into club class...</td>\n",
       "    </tr>\n",
       "    <tr>\n",
       "      <th>...</th>\n",
       "      <td>...</td>\n",
       "      <td>...</td>\n",
       "    </tr>\n",
       "    <tr>\n",
       "      <th>7257</th>\n",
       "      <td>2020-12-27</td>\n",
       "      <td>#BigInterview! Dhritiman Chatterjee: Nobody da...</td>\n",
       "    </tr>\n",
       "    <tr>\n",
       "      <th>7258</th>\n",
       "      <td>2020-12-28</td>\n",
       "      <td>Horoscope Today; 28 December 2020: Check astro...</td>\n",
       "    </tr>\n",
       "    <tr>\n",
       "      <th>7259</th>\n",
       "      <td>2020-12-29</td>\n",
       "      <td>Man recovers charred remains of 'thief' from h...</td>\n",
       "    </tr>\n",
       "    <tr>\n",
       "      <th>7260</th>\n",
       "      <td>2020-12-30</td>\n",
       "      <td>Numerology Readings 30 December 2020: Predicti...</td>\n",
       "    </tr>\n",
       "    <tr>\n",
       "      <th>7261</th>\n",
       "      <td>2020-12-31</td>\n",
       "      <td>Horoscope Today; 31 December 2020: Check astro...</td>\n",
       "    </tr>\n",
       "  </tbody>\n",
       "</table>\n",
       "<p>7262 rows × 2 columns</p>\n",
       "</div>"
      ],
      "text/plain": [
       "     publish_date                                      headline_text\n",
       "0      2001-01-02  Status quo will not be disturbed at Ayodhya; s...\n",
       "1      2001-01-03  Powerless north India gropes in the dark,Think...\n",
       "2      2001-01-04  The string that pulled Stephen Hawking to Indi...\n",
       "3      2001-01-05  Light combat craft takes India into club class...\n",
       "4      2001-01-06  Light combat craft takes India into club class...\n",
       "...           ...                                                ...\n",
       "7257   2020-12-27  #BigInterview! Dhritiman Chatterjee: Nobody da...\n",
       "7258   2020-12-28  Horoscope Today; 28 December 2020: Check astro...\n",
       "7259   2020-12-29  Man recovers charred remains of 'thief' from h...\n",
       "7260   2020-12-30  Numerology Readings 30 December 2020: Predicti...\n",
       "7261   2020-12-31  Horoscope Today; 31 December 2020: Check astro...\n",
       "\n",
       "[7262 rows x 2 columns]"
      ]
     },
     "execution_count": 17,
     "metadata": {},
     "output_type": "execute_result"
    }
   ],
   "source": [
    "stock_headlines"
   ]
  },
  {
   "cell_type": "code",
   "execution_count": 18,
   "metadata": {
    "id": "sH_pF6zAvFBi"
   },
   "outputs": [],
   "source": [
    "#renaming column 'publish_date' to 'Date'\n",
    "stock_headlines.columns=['Date','headline_text']"
   ]
  },
  {
   "cell_type": "code",
   "execution_count": 19,
   "metadata": {
    "colab": {
     "base_uri": "https://localhost:8080/",
     "height": 419
    },
    "id": "csxszQLzvNXP",
    "outputId": "2b24d1d5-b3a3-485c-cee9-606298128e5c"
   },
   "outputs": [
    {
     "data": {
      "text/html": [
       "<div>\n",
       "<style scoped>\n",
       "    .dataframe tbody tr th:only-of-type {\n",
       "        vertical-align: middle;\n",
       "    }\n",
       "\n",
       "    .dataframe tbody tr th {\n",
       "        vertical-align: top;\n",
       "    }\n",
       "\n",
       "    .dataframe thead th {\n",
       "        text-align: right;\n",
       "    }\n",
       "</style>\n",
       "<table border=\"1\" class=\"dataframe\">\n",
       "  <thead>\n",
       "    <tr style=\"text-align: right;\">\n",
       "      <th></th>\n",
       "      <th>Date</th>\n",
       "      <th>headline_text</th>\n",
       "    </tr>\n",
       "  </thead>\n",
       "  <tbody>\n",
       "    <tr>\n",
       "      <th>0</th>\n",
       "      <td>2001-01-02</td>\n",
       "      <td>Status quo will not be disturbed at Ayodhya; s...</td>\n",
       "    </tr>\n",
       "    <tr>\n",
       "      <th>1</th>\n",
       "      <td>2001-01-03</td>\n",
       "      <td>Powerless north India gropes in the dark,Think...</td>\n",
       "    </tr>\n",
       "    <tr>\n",
       "      <th>2</th>\n",
       "      <td>2001-01-04</td>\n",
       "      <td>The string that pulled Stephen Hawking to Indi...</td>\n",
       "    </tr>\n",
       "    <tr>\n",
       "      <th>3</th>\n",
       "      <td>2001-01-05</td>\n",
       "      <td>Light combat craft takes India into club class...</td>\n",
       "    </tr>\n",
       "    <tr>\n",
       "      <th>4</th>\n",
       "      <td>2001-01-06</td>\n",
       "      <td>Light combat craft takes India into club class...</td>\n",
       "    </tr>\n",
       "    <tr>\n",
       "      <th>...</th>\n",
       "      <td>...</td>\n",
       "      <td>...</td>\n",
       "    </tr>\n",
       "    <tr>\n",
       "      <th>7257</th>\n",
       "      <td>2020-12-27</td>\n",
       "      <td>#BigInterview! Dhritiman Chatterjee: Nobody da...</td>\n",
       "    </tr>\n",
       "    <tr>\n",
       "      <th>7258</th>\n",
       "      <td>2020-12-28</td>\n",
       "      <td>Horoscope Today; 28 December 2020: Check astro...</td>\n",
       "    </tr>\n",
       "    <tr>\n",
       "      <th>7259</th>\n",
       "      <td>2020-12-29</td>\n",
       "      <td>Man recovers charred remains of 'thief' from h...</td>\n",
       "    </tr>\n",
       "    <tr>\n",
       "      <th>7260</th>\n",
       "      <td>2020-12-30</td>\n",
       "      <td>Numerology Readings 30 December 2020: Predicti...</td>\n",
       "    </tr>\n",
       "    <tr>\n",
       "      <th>7261</th>\n",
       "      <td>2020-12-31</td>\n",
       "      <td>Horoscope Today; 31 December 2020: Check astro...</td>\n",
       "    </tr>\n",
       "  </tbody>\n",
       "</table>\n",
       "<p>7262 rows × 2 columns</p>\n",
       "</div>"
      ],
      "text/plain": [
       "           Date                                      headline_text\n",
       "0    2001-01-02  Status quo will not be disturbed at Ayodhya; s...\n",
       "1    2001-01-03  Powerless north India gropes in the dark,Think...\n",
       "2    2001-01-04  The string that pulled Stephen Hawking to Indi...\n",
       "3    2001-01-05  Light combat craft takes India into club class...\n",
       "4    2001-01-06  Light combat craft takes India into club class...\n",
       "...         ...                                                ...\n",
       "7257 2020-12-27  #BigInterview! Dhritiman Chatterjee: Nobody da...\n",
       "7258 2020-12-28  Horoscope Today; 28 December 2020: Check astro...\n",
       "7259 2020-12-29  Man recovers charred remains of 'thief' from h...\n",
       "7260 2020-12-30  Numerology Readings 30 December 2020: Predicti...\n",
       "7261 2020-12-31  Horoscope Today; 31 December 2020: Check astro...\n",
       "\n",
       "[7262 rows x 2 columns]"
      ]
     },
     "execution_count": 19,
     "metadata": {},
     "output_type": "execute_result"
    }
   ],
   "source": [
    "stock_headlines"
   ]
  },
  {
   "cell_type": "code",
   "execution_count": 20,
   "metadata": {
    "id": "ogxnxmRquq3A"
   },
   "outputs": [],
   "source": [
    "#merging stock_prices and stock_headlines w.r.t to date\n",
    "stock_data=pd.merge(stock_prices,stock_headlines, on='Date')"
   ]
  },
  {
   "cell_type": "code",
   "execution_count": 21,
   "metadata": {
    "colab": {
     "base_uri": "https://localhost:8080/",
     "height": 419
    },
    "id": "JnZYx8Yfp1h8",
    "outputId": "79472464-649a-4d4b-d0fb-5f65b0e19c87"
   },
   "outputs": [
    {
     "data": {
      "text/html": [
       "<div>\n",
       "<style scoped>\n",
       "    .dataframe tbody tr th:only-of-type {\n",
       "        vertical-align: middle;\n",
       "    }\n",
       "\n",
       "    .dataframe tbody tr th {\n",
       "        vertical-align: top;\n",
       "    }\n",
       "\n",
       "    .dataframe thead th {\n",
       "        text-align: right;\n",
       "    }\n",
       "</style>\n",
       "<table border=\"1\" class=\"dataframe\">\n",
       "  <thead>\n",
       "    <tr style=\"text-align: right;\">\n",
       "      <th></th>\n",
       "      <th>Date</th>\n",
       "      <th>Open</th>\n",
       "      <th>High</th>\n",
       "      <th>Low</th>\n",
       "      <th>Close</th>\n",
       "      <th>Adj Close</th>\n",
       "      <th>Volume</th>\n",
       "      <th>headline_text</th>\n",
       "    </tr>\n",
       "  </thead>\n",
       "  <tbody>\n",
       "    <tr>\n",
       "      <th>0</th>\n",
       "      <td>2005-06-30</td>\n",
       "      <td>7154.270020</td>\n",
       "      <td>7218.279785</td>\n",
       "      <td>7154.270020</td>\n",
       "      <td>7193.850098</td>\n",
       "      <td>7193.850098</td>\n",
       "      <td>28600.0</td>\n",
       "      <td>US kids hit fat camps in big way,Experts add m...</td>\n",
       "    </tr>\n",
       "    <tr>\n",
       "      <th>1</th>\n",
       "      <td>2005-07-01</td>\n",
       "      <td>7165.450195</td>\n",
       "      <td>7228.569824</td>\n",
       "      <td>7154.930176</td>\n",
       "      <td>7210.770020</td>\n",
       "      <td>7210.770020</td>\n",
       "      <td>12600.0</td>\n",
       "      <td>Kuch Meetha Ho Jaye,Bachke Rehna Re Baba,Silsi...</td>\n",
       "    </tr>\n",
       "    <tr>\n",
       "      <th>2</th>\n",
       "      <td>2005-07-04</td>\n",
       "      <td>7186.740234</td>\n",
       "      <td>7284.410156</td>\n",
       "      <td>7186.740234</td>\n",
       "      <td>7277.310059</td>\n",
       "      <td>7277.310059</td>\n",
       "      <td>9600.0</td>\n",
       "      <td>Boogeyman,Bush in judge test,Gladiators strike...</td>\n",
       "    </tr>\n",
       "    <tr>\n",
       "      <th>3</th>\n",
       "      <td>2005-07-05</td>\n",
       "      <td>7275.000000</td>\n",
       "      <td>7308.720215</td>\n",
       "      <td>7209.859863</td>\n",
       "      <td>7220.250000</td>\n",
       "      <td>7220.250000</td>\n",
       "      <td>12600.0</td>\n",
       "      <td>It was great fun: Pierce,A sport called hedoni...</td>\n",
       "    </tr>\n",
       "    <tr>\n",
       "      <th>4</th>\n",
       "      <td>2005-07-06</td>\n",
       "      <td>7227.220215</td>\n",
       "      <td>7296.180176</td>\n",
       "      <td>7227.220215</td>\n",
       "      <td>7287.600098</td>\n",
       "      <td>7287.600098</td>\n",
       "      <td>13400.0</td>\n",
       "      <td>Heroes of Dec 13 prove mettle again,Govt corne...</td>\n",
       "    </tr>\n",
       "    <tr>\n",
       "      <th>...</th>\n",
       "      <td>...</td>\n",
       "      <td>...</td>\n",
       "      <td>...</td>\n",
       "      <td>...</td>\n",
       "      <td>...</td>\n",
       "      <td>...</td>\n",
       "      <td>...</td>\n",
       "      <td>...</td>\n",
       "    </tr>\n",
       "    <tr>\n",
       "      <th>3667</th>\n",
       "      <td>2020-06-23</td>\n",
       "      <td>35015.730469</td>\n",
       "      <td>35482.160156</td>\n",
       "      <td>34843.691406</td>\n",
       "      <td>35430.429688</td>\n",
       "      <td>35430.429688</td>\n",
       "      <td>25200.0</td>\n",
       "      <td>Delayed periods? Time to accept that household...</td>\n",
       "    </tr>\n",
       "    <tr>\n",
       "      <th>3668</th>\n",
       "      <td>2020-06-24</td>\n",
       "      <td>35679.738281</td>\n",
       "      <td>35706.550781</td>\n",
       "      <td>34794.929688</td>\n",
       "      <td>34868.980469</td>\n",
       "      <td>34868.980469</td>\n",
       "      <td>26600.0</td>\n",
       "      <td>I never thought I had a voice until today: Vid...</td>\n",
       "    </tr>\n",
       "    <tr>\n",
       "      <th>3669</th>\n",
       "      <td>2020-06-25</td>\n",
       "      <td>34525.390625</td>\n",
       "      <td>35081.609375</td>\n",
       "      <td>34499.781250</td>\n",
       "      <td>34842.101563</td>\n",
       "      <td>34842.101563</td>\n",
       "      <td>24600.0</td>\n",
       "      <td>Truck firms look for new export markets to sel...</td>\n",
       "    </tr>\n",
       "    <tr>\n",
       "      <th>3670</th>\n",
       "      <td>2020-06-26</td>\n",
       "      <td>35144.781250</td>\n",
       "      <td>35254.878906</td>\n",
       "      <td>34910.339844</td>\n",
       "      <td>35171.269531</td>\n",
       "      <td>35171.269531</td>\n",
       "      <td>24800.0</td>\n",
       "      <td>Containment zone residents slam high prices ch...</td>\n",
       "    </tr>\n",
       "    <tr>\n",
       "      <th>3671</th>\n",
       "      <td>2020-06-29</td>\n",
       "      <td>34926.949219</td>\n",
       "      <td>35032.359375</td>\n",
       "      <td>34662.058594</td>\n",
       "      <td>34961.519531</td>\n",
       "      <td>34961.519531</td>\n",
       "      <td>18300.0</td>\n",
       "      <td>6 hot and stylish bikini looks of Katrina Kaif...</td>\n",
       "    </tr>\n",
       "  </tbody>\n",
       "</table>\n",
       "<p>3672 rows × 8 columns</p>\n",
       "</div>"
      ],
      "text/plain": [
       "           Date          Open          High           Low         Close  \\\n",
       "0    2005-06-30   7154.270020   7218.279785   7154.270020   7193.850098   \n",
       "1    2005-07-01   7165.450195   7228.569824   7154.930176   7210.770020   \n",
       "2    2005-07-04   7186.740234   7284.410156   7186.740234   7277.310059   \n",
       "3    2005-07-05   7275.000000   7308.720215   7209.859863   7220.250000   \n",
       "4    2005-07-06   7227.220215   7296.180176   7227.220215   7287.600098   \n",
       "...         ...           ...           ...           ...           ...   \n",
       "3667 2020-06-23  35015.730469  35482.160156  34843.691406  35430.429688   \n",
       "3668 2020-06-24  35679.738281  35706.550781  34794.929688  34868.980469   \n",
       "3669 2020-06-25  34525.390625  35081.609375  34499.781250  34842.101563   \n",
       "3670 2020-06-26  35144.781250  35254.878906  34910.339844  35171.269531   \n",
       "3671 2020-06-29  34926.949219  35032.359375  34662.058594  34961.519531   \n",
       "\n",
       "         Adj Close   Volume                                      headline_text  \n",
       "0      7193.850098  28600.0  US kids hit fat camps in big way,Experts add m...  \n",
       "1      7210.770020  12600.0  Kuch Meetha Ho Jaye,Bachke Rehna Re Baba,Silsi...  \n",
       "2      7277.310059   9600.0  Boogeyman,Bush in judge test,Gladiators strike...  \n",
       "3      7220.250000  12600.0  It was great fun: Pierce,A sport called hedoni...  \n",
       "4      7287.600098  13400.0  Heroes of Dec 13 prove mettle again,Govt corne...  \n",
       "...            ...      ...                                                ...  \n",
       "3667  35430.429688  25200.0  Delayed periods? Time to accept that household...  \n",
       "3668  34868.980469  26600.0  I never thought I had a voice until today: Vid...  \n",
       "3669  34842.101563  24600.0  Truck firms look for new export markets to sel...  \n",
       "3670  35171.269531  24800.0  Containment zone residents slam high prices ch...  \n",
       "3671  34961.519531  18300.0  6 hot and stylish bikini looks of Katrina Kaif...  \n",
       "\n",
       "[3672 rows x 8 columns]"
      ]
     },
     "execution_count": 21,
     "metadata": {},
     "output_type": "execute_result"
    }
   ],
   "source": [
    "stock_data"
   ]
  },
  {
   "cell_type": "code",
   "execution_count": 22,
   "metadata": {
    "colab": {
     "base_uri": "https://localhost:8080/",
     "height": 609
    },
    "id": "SP6xH7T7vuXC",
    "outputId": "dedf52d4-f8f9-4295-e41d-f79e93f16031"
   },
   "outputs": [
    {
     "data": {
      "text/plain": [
       "<AxesSubplot:>"
      ]
     },
     "execution_count": 22,
     "metadata": {},
     "output_type": "execute_result"
    },
    {
     "data": {
      "image/png": "[encoded data removed]",
      "text/plain": [
       "<Figure size 1080x720 with 1 Axes>"
      ]
     },
     "metadata": {
      "needs_background": "light"
     },
     "output_type": "display_data"
    }
   ],
   "source": [
    "# Setting figure size\n",
    "plt.figure(figsize=(15,10))\n",
    "\n",
    "# Plotting the close price and  rolling mean of close price\n",
    "stock_data['Close'].plot()\n",
    "mean=stock_data['Close'].rolling(window=5).mean()\n",
    "\n",
    "mean.plot(color = 'r', label = 'Rolling Mean')\n"
   ]
  },
  {
   "cell_type": "code",
   "execution_count": 23,
   "metadata": {
    "colab": {
     "base_uri": "https://localhost:8080/"
    },
    "id": "MZwJQ2Ov1jam",
    "outputId": "69ae4866-a5ff-4a7a-f41e-e20fe24fc588"
   },
   "outputs": [
    {
     "name": "stdout",
     "output_type": "stream",
     "text": [
      "Start calculating sentiment scores:\n",
      "Compound Done\n"
     ]
    }
   ],
   "source": [
    "# Doing the sentiment analysis of the headlines\n",
    "from nltk.sentiment.vader import SentimentIntensityAnalyzer\n",
    "\n",
    "sid = SentimentIntensityAnalyzer()\n",
    "print('Start calculating sentiment scores:')\n",
    "\n",
    "stock_data['compound'] = stock_data['headline_text'].apply(lambda x: sid.polarity_scores(x)['compound'])\n",
    "print('Compound Done')"
   ]
  },
  {
   "cell_type": "code",
   "execution_count": 24,
   "metadata": {
    "colab": {
     "base_uri": "https://localhost:8080/",
     "height": 638
    },
    "id": "N3seauoA5JGn",
    "outputId": "c360f4c0-fc24-4242-a6af-19127edcd5a1"
   },
   "outputs": [
    {
     "data": {
      "text/plain": [
       "Text(0, 0.5, 'Close Price (INR)')"
      ]
     },
     "execution_count": 24,
     "metadata": {},
     "output_type": "execute_result"
    },
    {
     "data": {
      "image/png": "[encoded data removed]",
      "text/plain": [
       "<Figure size 1080x720 with 1 Axes>"
      ]
     },
     "metadata": {
      "needs_background": "light"
     },
     "output_type": "display_data"
    }
   ],
   "source": [
    "#Setting plot size and labels\n",
    "plt.figure(figsize=(15,10))\n",
    "\n",
    "plt.plot(stock_data['Date'],stock_data['Close'])\n",
    "\n",
    "\n",
    "plt.title(\"Close Price\")\n",
    "plt.xlabel('Date')\n",
    "plt.ylabel('Close Price (INR)')"
   ]
  },
  {
   "cell_type": "code",
   "execution_count": 25,
   "metadata": {
    "colab": {
     "base_uri": "https://localhost:8080/",
     "height": 419
    },
    "id": "Spa6SImI4qU_",
    "outputId": "b4c8af91-46aa-4ebf-cbe7-1f056233c646"
   },
   "outputs": [
    {
     "data": {
      "text/html": [
       "<div>\n",
       "<style scoped>\n",
       "    .dataframe tbody tr th:only-of-type {\n",
       "        vertical-align: middle;\n",
       "    }\n",
       "\n",
       "    .dataframe tbody tr th {\n",
       "        vertical-align: top;\n",
       "    }\n",
       "\n",
       "    .dataframe thead th {\n",
       "        text-align: right;\n",
       "    }\n",
       "</style>\n",
       "<table border=\"1\" class=\"dataframe\">\n",
       "  <thead>\n",
       "    <tr style=\"text-align: right;\">\n",
       "      <th></th>\n",
       "      <th>Date</th>\n",
       "      <th>Open</th>\n",
       "      <th>High</th>\n",
       "      <th>Low</th>\n",
       "      <th>Close</th>\n",
       "      <th>Adj Close</th>\n",
       "      <th>Volume</th>\n",
       "      <th>headline_text</th>\n",
       "      <th>compound</th>\n",
       "    </tr>\n",
       "  </thead>\n",
       "  <tbody>\n",
       "    <tr>\n",
       "      <th>0</th>\n",
       "      <td>2005-06-30</td>\n",
       "      <td>7154.270020</td>\n",
       "      <td>7218.279785</td>\n",
       "      <td>7154.270020</td>\n",
       "      <td>7193.850098</td>\n",
       "      <td>7193.850098</td>\n",
       "      <td>28600.0</td>\n",
       "      <td>US kids hit fat camps in big way,Experts add m...</td>\n",
       "      <td>-0.8856</td>\n",
       "    </tr>\n",
       "    <tr>\n",
       "      <th>1</th>\n",
       "      <td>2005-07-01</td>\n",
       "      <td>7165.450195</td>\n",
       "      <td>7228.569824</td>\n",
       "      <td>7154.930176</td>\n",
       "      <td>7210.770020</td>\n",
       "      <td>7210.770020</td>\n",
       "      <td>12600.0</td>\n",
       "      <td>Kuch Meetha Ho Jaye,Bachke Rehna Re Baba,Silsi...</td>\n",
       "      <td>0.5897</td>\n",
       "    </tr>\n",
       "    <tr>\n",
       "      <th>2</th>\n",
       "      <td>2005-07-04</td>\n",
       "      <td>7186.740234</td>\n",
       "      <td>7284.410156</td>\n",
       "      <td>7186.740234</td>\n",
       "      <td>7277.310059</td>\n",
       "      <td>7277.310059</td>\n",
       "      <td>9600.0</td>\n",
       "      <td>Boogeyman,Bush in judge test,Gladiators strike...</td>\n",
       "      <td>-0.9822</td>\n",
       "    </tr>\n",
       "    <tr>\n",
       "      <th>3</th>\n",
       "      <td>2005-07-05</td>\n",
       "      <td>7275.000000</td>\n",
       "      <td>7308.720215</td>\n",
       "      <td>7209.859863</td>\n",
       "      <td>7220.250000</td>\n",
       "      <td>7220.250000</td>\n",
       "      <td>12600.0</td>\n",
       "      <td>It was great fun: Pierce,A sport called hedoni...</td>\n",
       "      <td>0.9466</td>\n",
       "    </tr>\n",
       "    <tr>\n",
       "      <th>4</th>\n",
       "      <td>2005-07-06</td>\n",
       "      <td>7227.220215</td>\n",
       "      <td>7296.180176</td>\n",
       "      <td>7227.220215</td>\n",
       "      <td>7287.600098</td>\n",
       "      <td>7287.600098</td>\n",
       "      <td>13400.0</td>\n",
       "      <td>Heroes of Dec 13 prove mettle again,Govt corne...</td>\n",
       "      <td>0.9606</td>\n",
       "    </tr>\n",
       "  </tbody>\n",
       "</table>\n",
       "</div>"
      ],
      "text/plain": [
       "        Date         Open         High          Low        Close    Adj Close  \\\n",
       "0 2005-06-30  7154.270020  7218.279785  7154.270020  7193.850098  7193.850098   \n",
       "1 2005-07-01  7165.450195  7228.569824  7154.930176  7210.770020  7210.770020   \n",
       "2 2005-07-04  7186.740234  7284.410156  7186.740234  7277.310059  7277.310059   \n",
       "3 2005-07-05  7275.000000  7308.720215  7209.859863  7220.250000  7220.250000   \n",
       "4 2005-07-06  7227.220215  7296.180176  7227.220215  7287.600098  7287.600098   \n",
       "\n",
       "    Volume                                      headline_text  compound  \n",
       "0  28600.0  US kids hit fat camps in big way,Experts add m...   -0.8856  \n",
       "1  12600.0  Kuch Meetha Ho Jaye,Bachke Rehna Re Baba,Silsi...    0.5897  \n",
       "2   9600.0  Boogeyman,Bush in judge test,Gladiators strike...   -0.9822  \n",
       "3  12600.0  It was great fun: Pierce,A sport called hedoni...    0.9466  \n",
       "4  13400.0  Heroes of Dec 13 prove mettle again,Govt corne...    0.9606  "
      ]
     },
     "execution_count": 25,
     "metadata": {},
     "output_type": "execute_result"
    }
   ],
   "source": [
    "stock_data.head()"
   ]
  },
  {
   "cell_type": "code",
   "execution_count": 26,
   "metadata": {
    "colab": {
     "base_uri": "https://localhost:8080/",
     "height": 204
    },
    "id": "2NmXlVRX4uiQ",
    "outputId": "c56a3795-0f31-487e-9231-fe81d7720926"
   },
   "outputs": [
    {
     "data": {
      "text/html": [
       "<div>\n",
       "<style scoped>\n",
       "    .dataframe tbody tr th:only-of-type {\n",
       "        vertical-align: middle;\n",
       "    }\n",
       "\n",
       "    .dataframe tbody tr th {\n",
       "        vertical-align: top;\n",
       "    }\n",
       "\n",
       "    .dataframe thead th {\n",
       "        text-align: right;\n",
       "    }\n",
       "</style>\n",
       "<table border=\"1\" class=\"dataframe\">\n",
       "  <thead>\n",
       "    <tr style=\"text-align: right;\">\n",
       "      <th></th>\n",
       "      <th>Open</th>\n",
       "      <th>High</th>\n",
       "      <th>Low</th>\n",
       "      <th>Volume</th>\n",
       "      <th>compound</th>\n",
       "      <th>Close</th>\n",
       "    </tr>\n",
       "  </thead>\n",
       "  <tbody>\n",
       "    <tr>\n",
       "      <th>0</th>\n",
       "      <td>7154.270020</td>\n",
       "      <td>7218.279785</td>\n",
       "      <td>7154.270020</td>\n",
       "      <td>28600.0</td>\n",
       "      <td>-0.8856</td>\n",
       "      <td>7193.850098</td>\n",
       "    </tr>\n",
       "    <tr>\n",
       "      <th>1</th>\n",
       "      <td>7165.450195</td>\n",
       "      <td>7228.569824</td>\n",
       "      <td>7154.930176</td>\n",
       "      <td>12600.0</td>\n",
       "      <td>0.5897</td>\n",
       "      <td>7210.770020</td>\n",
       "    </tr>\n",
       "    <tr>\n",
       "      <th>2</th>\n",
       "      <td>7186.740234</td>\n",
       "      <td>7284.410156</td>\n",
       "      <td>7186.740234</td>\n",
       "      <td>9600.0</td>\n",
       "      <td>-0.9822</td>\n",
       "      <td>7277.310059</td>\n",
       "    </tr>\n",
       "    <tr>\n",
       "      <th>3</th>\n",
       "      <td>7275.000000</td>\n",
       "      <td>7308.720215</td>\n",
       "      <td>7209.859863</td>\n",
       "      <td>12600.0</td>\n",
       "      <td>0.9466</td>\n",
       "      <td>7220.250000</td>\n",
       "    </tr>\n",
       "    <tr>\n",
       "      <th>4</th>\n",
       "      <td>7227.220215</td>\n",
       "      <td>7296.180176</td>\n",
       "      <td>7227.220215</td>\n",
       "      <td>13400.0</td>\n",
       "      <td>0.9606</td>\n",
       "      <td>7287.600098</td>\n",
       "    </tr>\n",
       "  </tbody>\n",
       "</table>\n",
       "</div>"
      ],
      "text/plain": [
       "          Open         High          Low   Volume  compound        Close\n",
       "0  7154.270020  7218.279785  7154.270020  28600.0   -0.8856  7193.850098\n",
       "1  7165.450195  7228.569824  7154.930176  12600.0    0.5897  7210.770020\n",
       "2  7186.740234  7284.410156  7186.740234   9600.0   -0.9822  7277.310059\n",
       "3  7275.000000  7308.720215  7209.859863  12600.0    0.9466  7220.250000\n",
       "4  7227.220215  7296.180176  7227.220215  13400.0    0.9606  7287.600098"
      ]
     },
     "execution_count": 26,
     "metadata": {},
     "output_type": "execute_result"
    }
   ],
   "source": [
    "# Dropping unwanted 'headline_text' and rearranging columns\n",
    "stock_data.drop(['headline_text'], inplace=True, axis=1)\n",
    "stock_data = stock_data[[ 'Open', 'High', 'Low', 'Volume', 'compound', 'Close']]\n",
    "\n",
    "# final stock_data\n",
    "stock_data.head()"
   ]
  },
  {
   "cell_type": "code",
   "execution_count": 27,
   "metadata": {
    "id": "5xcRuaFb8I1E"
   },
   "outputs": [],
   "source": [
    "X=stock_data.iloc[:,:-1].values\n",
    "Y=stock_data.iloc[:,-1].values"
   ]
  },
  {
   "cell_type": "code",
   "execution_count": 28,
   "metadata": {
    "id": "Jc8QWbvD8bxT"
   },
   "outputs": [],
   "source": [
    "# Splitting the dataset into training and test set\n",
    "from sklearn.model_selection import train_test_split\n",
    "X_train,X_test,Y_train,Y_test=train_test_split(X,Y,test_size=0.2,random_state=0)\n"
   ]
  },
  {
   "cell_type": "code",
   "execution_count": 29,
   "metadata": {
    "colab": {
     "base_uri": "https://localhost:8080/"
    },
    "id": "QvrfMEqE_Mfa",
    "outputId": "bc92bbc5-fbdc-4d39-a2a9-3fd00618554d"
   },
   "outputs": [
    {
     "name": "stdout",
     "output_type": "stream",
     "text": [
      "Requirement already satisfied: xgboost in c:\\users\\asus\\desktop\\stock_market_prediction\\env\\lib\\site-packages (1.4.2)\n",
      "Requirement already satisfied: scipy in c:\\users\\asus\\desktop\\stock_market_prediction\\env\\lib\\site-packages (from xgboost) (1.6.1)\n",
      "Requirement already satisfied: numpy in c:\\users\\asus\\desktop\\stock_market_prediction\\env\\lib\\site-packages (from xgboost) (1.19.2)\n"
     ]
    },
    {
     "data": {
      "text/plain": [
       "XGBRegressor(base_score=0.5, booster='gbtree', colsample_bylevel=1,\n",
       "             colsample_bynode=1, colsample_bytree=1, gamma=0, gpu_id=-1,\n",
       "             importance_type='gain', interaction_constraints='',\n",
       "             learning_rate=0.300000012, max_delta_step=0, max_depth=6,\n",
       "             min_child_weight=1, missing=nan, monotone_constraints='()',\n",
       "             n_estimators=100, n_jobs=8, num_parallel_tree=1, random_state=0,\n",
       "             reg_alpha=0, reg_lambda=1, scale_pos_weight=1, subsample=1,\n",
       "             tree_method='exact', validate_parameters=1, verbosity=None)"
      ]
     },
     "execution_count": 29,
     "metadata": {},
     "output_type": "execute_result"
    }
   ],
   "source": [
    "# Data modelling\n",
    "!pip install xgboost\n",
    "import xgboost \n",
    "xgb = xgboost.XGBRegressor()\n",
    "xgb.fit(X_train, Y_train)"
   ]
  },
  {
   "cell_type": "code",
   "execution_count": 30,
   "metadata": {
    "colab": {
     "base_uri": "https://localhost:8080/"
    },
    "id": "TMkjryBp_v76",
    "outputId": "ade2f4d9-1bf3-4d35-e384-dfdee9131d8d"
   },
   "outputs": [
    {
     "data": {
      "text/plain": [
       "array([[ 1.81351191e+04,  1.81351191e+04,  1.75596992e+04,\n",
       "         2.30000000e+04, -9.99700000e-01],\n",
       "       [ 9.39862012e+03,  9.41370019e+03,  9.32875977e+03,\n",
       "         3.62000000e+04, -9.97900000e-01],\n",
       "       [ 3.20303398e+04,  3.23015801e+04,  3.15008691e+04,\n",
       "         1.81000000e+04, -9.99300000e-01],\n",
       "       ...,\n",
       "       [ 1.54285000e+04,  1.54634600e+04,  1.52405303e+04,\n",
       "         4.08000000e+04, -9.99700000e-01],\n",
       "       [ 1.99997695e+04,  2.00555293e+04,  1.97776309e+04,\n",
       "         1.57000000e+04, -9.99600000e-01],\n",
       "       [ 1.96798809e+04,  1.97546602e+04,  1.96027109e+04,\n",
       "         7.40000000e+03, -9.98900000e-01]])"
      ]
     },
     "execution_count": 30,
     "metadata": {},
     "output_type": "execute_result"
    }
   ],
   "source": [
    "# Getting the prediction\n",
    "predictions = xgb.predict(X_test)\n",
    "X_test"
   ]
  },
  {
   "cell_type": "code",
   "execution_count": 31,
   "metadata": {
    "colab": {
     "base_uri": "https://localhost:8080/",
     "height": 421
    },
    "id": "j6-Hbep5Aavo",
    "outputId": "c671a553-052b-4407-9db7-23288c56b65c"
   },
   "outputs": [
    {
     "data": {
      "text/plain": [
       "Text(0, 0.5, 'Stock Price')"
      ]
     },
     "execution_count": 31,
     "metadata": {},
     "output_type": "execute_result"
    },
    {
     "data": {
      "image/png": "[encoded data removed]",
      "text/plain": [
       "<Figure size 1080x432 with 1 Axes>"
      ]
     },
     "metadata": {
      "needs_background": "light"
     },
     "output_type": "display_data"
    }
   ],
   "source": [
    "# Plotting prediction w.r.t Y_test\n",
    "plt.figure(figsize=(15,6))\n",
    "plt.plot(Y_test, label='Test', color='b')\n",
    "plt.plot(predictions, label='Prediction', color='r')\n",
    "plt.title('BSESN Stock Price Prediction')\n",
    "plt.xlabel('Time')\n",
    "plt.ylabel('Stock Price')"
   ]
  },
  {
   "cell_type": "code",
   "execution_count": 32,
   "metadata": {},
   "outputs": [
    {
     "data": {
      "text/plain": [
       "21226.629783346583"
      ]
     },
     "execution_count": 32,
     "metadata": {},
     "output_type": "execute_result"
    }
   ],
   "source": [
    "from sklearn.metrics import mean_squared_error\n",
    "mse = mean_squared_error(predictions, Y_test)\n",
    "mse"
   ]
  },
  {
   "cell_type": "code",
   "execution_count": 33,
   "metadata": {},
   "outputs": [
    {
     "name": "stdout",
     "output_type": "stream",
     "text": [
      "0.999723812269818\n"
     ]
    }
   ],
   "source": [
    "from sklearn.metrics import explained_variance_score\n",
    "print(explained_variance_score(predictions,Y_test))"
   ]
  },
  {
   "cell_type": "code",
   "execution_count": 37,
   "metadata": {},
   "outputs": [],
   "source": [
    "import pickle\n",
    "pickle.dump(xgb,open(\"xgb_regressor1.pkl\",\"wb\"))"
   ]
  }
 ],
 "metadata": {
  "colab": {
   "authorship_tag": "ABX9TyPN3CVFlf+YhlQoVPBn91eD",
   "include_colab_link": true,
   "mount_file_id": "10Y-noFUrrXBagapMAi7v6V7F6rWB2nP4",
   "name": "StockMarketPrediction.ipynb",
   "provenance": []
  },
  "kernelspec": {
   "display_name": "Python 3",
   "language": "python",
   "name": "python3"
  },
  "language_info": {
   "codemirror_mode": {
    "name": "ipython",
    "version": 3
   },
   "file_extension": ".py",
   "mimetype": "text/x-python",
   "name": "python",
   "nbconvert_exporter": "python",
   "pygments_lexer": "ipython3",
   "version": "3.8.8"
  }
 },
 "nbformat": 4,
 "nbformat_minor": 1
}
